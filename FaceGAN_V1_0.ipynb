{
  "nbformat": 4,
  "nbformat_minor": 0,
  "metadata": {
    "colab": {
      "name": "FaceGAN_V1.0.ipynb",
      "provenance": [],
      "mount_file_id": "1-ujAovEnZ96UTVgByrR_XdXVWz0-vEoY",
      "authorship_tag": "ABX9TyPpQn9UAwpGVH224pRpMSij",
      "include_colab_link": true
    },
    "kernelspec": {
      "name": "python3",
      "display_name": "Python 3"
    }
  },
  "cells": [
    {
      "cell_type": "markdown",
      "metadata": {
        "id": "view-in-github",
        "colab_type": "text"
      },
      "source": [
        "<a href=\"https://colab.research.google.com/github/imdeepmind/GenerateFace/blob/main/FaceGAN_V1_0.ipynb\" target=\"_parent\"><img src=\"https://colab.research.google.com/assets/colab-badge.svg\" alt=\"Open In Colab\"/></a>"
      ]
    },
    {
      "cell_type": "code",
      "metadata": {
        "id": "U7FbkU6QPmkY",
        "outputId": "da7085e5-9248-41a4-cf75-c33a0f25cdef",
        "colab": {
          "base_uri": "https://localhost:8080/",
          "height": 146
        }
      },
      "source": [
        "# Setting the env for the model\n",
        "!git clone https://github.com/imdeepmind/GenerateFace.git\n",
        "!mv GenerateFace/* ./\n",
        "!cp \"/content/drive/My Drive/Copy of img_align_celeba.zip\" ./\n",
        "!mkdir data/\n",
        "!unzip -qq \"Copy of img_align_celeba.zip\" -d ./data/images\n",
        "!rm \"Copy of img_align_celeba.zip\""
      ],
      "execution_count": 1,
      "outputs": [
        {
          "output_type": "stream",
          "text": [
            "Cloning into 'GenerateFace'...\n",
            "remote: Enumerating objects: 9, done.\u001b[K\n",
            "remote: Counting objects: 100% (9/9), done.\u001b[K\n",
            "remote: Compressing objects: 100% (8/8), done.\u001b[K\n",
            "remote: Total 9 (delta 1), reused 5 (delta 1), pack-reused 0\n",
            "Unpacking objects: 100% (9/9), done.\n",
            "cp: -r not specified; omitting directory 'GenerateFace'\n"
          ],
          "name": "stdout"
        }
      ]
    },
    {
      "cell_type": "code",
      "metadata": {
        "id": "qDOqJHtlRUKC"
      },
      "source": [
        "# Model Configuration\n",
        "MODE = \"test\"\n",
        "\n",
        "config = {\n",
        "    \"test\": {\n",
        "        \"path\": \"./data/images/img_align_celeba\",\n",
        "        \"batch_size\": 16\n",
        "    }\n",
        "}"
      ],
      "execution_count": 29,
      "outputs": []
    },
    {
      "cell_type": "code",
      "metadata": {
        "id": "ePEAz1ZhQuRd"
      },
      "source": [
        "# Building the dataloader for loading our custom dataset\n",
        "\n",
        "from data_loader import FaceDataset\n",
        "from torch.utils.data import DataLoader, sampler\n",
        "from torchvision import transforms\n",
        "\n",
        "custom_transform = transforms.Compose([transforms.Resize((28,28)), transforms.ToTensor()])\n",
        "\n",
        "dataset = FaceDataset(config[MODE][\"path\"], custom_transform)\n",
        "\n",
        "train_loader = DataLoader(dataset=dataset, batch_size=config[MODE][\"batch_size\"], shuffle=True)"
      ],
      "execution_count": 43,
      "outputs": []
    },
    {
      "cell_type": "code",
      "metadata": {
        "id": "r817gDz-Sw7Y",
        "outputId": "7202904a-9da9-4564-e839-5a07e725cfda",
        "colab": {
          "base_uri": "https://localhost:8080/",
          "height": 35
        }
      },
      "source": [
        "for t in train_loader:\n",
        "  print(t.shape)\n",
        "  break"
      ],
      "execution_count": 45,
      "outputs": [
        {
          "output_type": "stream",
          "text": [
            "torch.Size([16, 3, 28, 28])\n"
          ],
          "name": "stdout"
        }
      ]
    },
    {
      "cell_type": "code",
      "metadata": {
        "id": "PaQQ73FhTsiv"
      },
      "source": [
        ""
      ],
      "execution_count": null,
      "outputs": []
    }
  ]
}